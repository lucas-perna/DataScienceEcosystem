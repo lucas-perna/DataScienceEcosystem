{
 "cells": [
  {
   "cell_type": "markdown",
   "id": "e40421e8-1e79-4af1-97eb-513319243356",
   "metadata": {},
   "source": [
    "# Data Science Tools and Ecosystem"
   ]
  },
  {
   "cell_type": "markdown",
   "id": "51a96cc7-d14e-4347-b8ba-9eb0f37e5c9e",
   "metadata": {},
   "source": [
    "In this notebook, Data Science Tools and Ecosystem are summarized."
   ]
  },
  {
   "cell_type": "markdown",
   "id": "cb278889-ea5b-47a2-a3ae-c276c8105abb",
   "metadata": {},
   "source": [
    "**Objectives:**\n",
    "- list popular data science languages\n",
    "- list popular data science libraies\n",
    "- do some simple arithmatic with Python"
   ]
  },
  {
   "cell_type": "markdown",
   "id": "c11f1c17-0a75-45df-b28b-09baeb94566f",
   "metadata": {},
   "source": [
    "Some of the popular languages that Data Scientists use are:\n",
    "1. Python\n",
    "2. R\n",
    "3. SQL"
   ]
  },
  {
   "cell_type": "markdown",
   "id": "3f0141a1-8dcf-4386-8eed-8efa2fb0b6bd",
   "metadata": {},
   "source": [
    "Some of the commonly used libraries used by Data Scientists include:\n",
    "1. numpy\n",
    "2. pandas\n",
    "3. scipy\n",
    "4. matplotlib"
   ]
  },
  {
   "cell_type": "markdown",
   "id": "53fb55c2-2d60-417a-b80f-27cec38938c2",
   "metadata": {},
   "source": [
    "| Data Science Tools |\n",
    "| --- |\n",
    "| Jupyter |\n",
    "| RStudio |\n",
    "| Apache Zeppelin |\n",
    "| Spyder |"
   ]
  },
  {
   "cell_type": "markdown",
   "id": "7d0a4459-6772-4e49-a61a-c86a16a529de",
   "metadata": {},
   "source": [
    "### Below are a few examples of evaluating arithmetic expressions in Python"
   ]
  },
  {
   "cell_type": "code",
   "execution_count": 2,
   "id": "4feccfb1-9e19-4777-b93d-7a571ca9aa99",
   "metadata": {},
   "outputs": [
    {
     "data": {
      "text/plain": [
       "17"
      ]
     },
     "execution_count": 2,
     "metadata": {},
     "output_type": "execute_result"
    }
   ],
   "source": [
    "#This a simple arithmetic expression to mutiply then add integers\n",
    "(3*4)+5"
   ]
  },
  {
   "cell_type": "code",
   "execution_count": 3,
   "id": "79542469-1ef7-43da-83ab-ccbec4f6eab0",
   "metadata": {},
   "outputs": [
    {
     "data": {
      "text/plain": [
       "3.3333333333333335"
      ]
     },
     "execution_count": 3,
     "metadata": {},
     "output_type": "execute_result"
    }
   ],
   "source": [
    "#This will convert 200 minutes to hours by diving by 60\n",
    "200/60"
   ]
  },
  {
   "cell_type": "markdown",
   "id": "64486005-2397-4b18-962f-2ff69f35e747",
   "metadata": {},
   "source": [
    "## Author\n",
    "Lucas Perna-Vella"
   ]
  },
  {
   "cell_type": "code",
   "execution_count": 11,
   "id": "ad944133-316a-43f6-a3f5-569c72632835",
   "metadata": {},
   "outputs": [
    {
     "name": "stdout",
     "output_type": "stream",
     "text": [
      "200 minutes is equivalent to around 3.33 hours.\n",
      "Said othersise, this is 3 hours and 20 minutes.\n"
     ]
    }
   ],
   "source": [
    "# more fun way to do the minutes -> hours conversion:\n",
    "x = 200\n",
    "print(f\"{x} minutes is equivalent to around {round(x/60,2)} hours.\")\n",
    "print(f\"Said othersise, this is {round(x/60)} hours and {x%60} minutes.\")"
   ]
  },
  {
   "cell_type": "code",
   "execution_count": null,
   "id": "b3f1bc15-ff9b-4692-bbc4-8d91f6f471df",
   "metadata": {},
   "outputs": [],
   "source": []
  }
 ],
 "metadata": {
  "kernelspec": {
   "display_name": "Python 3 (ipykernel)",
   "language": "python",
   "name": "python3"
  },
  "language_info": {
   "codemirror_mode": {
    "name": "ipython",
    "version": 3
   },
   "file_extension": ".py",
   "mimetype": "text/x-python",
   "name": "python",
   "nbconvert_exporter": "python",
   "pygments_lexer": "ipython3",
   "version": "3.9.15"
  }
 },
 "nbformat": 4,
 "nbformat_minor": 5
}
